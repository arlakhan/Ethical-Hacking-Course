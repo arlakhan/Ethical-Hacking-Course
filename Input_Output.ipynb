{
  "nbformat": 4,
  "nbformat_minor": 0,
  "metadata": {
    "colab": {
      "provenance": []
    },
    "kernelspec": {
      "name": "python3",
      "display_name": "Python 3"
    },
    "language_info": {
      "name": "python"
    }
  },
  "cells": [
    {
      "cell_type": "code",
      "execution_count": 1,
      "metadata": {
        "colab": {
          "base_uri": "https://localhost:8080/"
        },
        "id": "CLhcpUK8fCOU",
        "outputId": "ca2bc719-fb2c-478f-dbd7-cacac1a03e26"
      },
      "outputs": [
        {
          "output_type": "stream",
          "name": "stdout",
          "text": [
            "Enter your name: Abdullah Lakhan\n",
            "Enter your age: 34\n",
            "Hello, Abdullah Lakhan! You are 34 years old.\n"
          ]
        }
      ],
      "source": [
        "# Script for basic input/output\n",
        "name = input(\"Enter your name: \")\n",
        "age = int(input(\"Enter your age: \"))\n",
        "print(f\"Hello, {name}! You are {age} years old.\")\n"
      ]
    }
  ]
}