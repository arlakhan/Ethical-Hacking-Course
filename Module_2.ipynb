{
  "nbformat": 4,
  "nbformat_minor": 0,
  "metadata": {
    "colab": {
      "provenance": []
    },
    "kernelspec": {
      "name": "python3",
      "display_name": "Python 3"
    },
    "language_info": {
      "name": "python"
    }
  },
  "cells": [
    {
      "cell_type": "code",
      "execution_count": null,
      "metadata": {
        "colab": {
          "base_uri": "https://localhost:8080/"
        },
        "id": "_L_-J-jOrSMw",
        "outputId": "59989b39-aefa-4a73-e774-c530c3417bfa"
      },
      "outputs": [
        {
          "output_type": "stream",
          "name": "stdout",
          "text": [
            "Hostname: 63cde4d22fcc\n",
            "IP Address: 172.28.0.12\n",
            "MAC Address: 02:42:ac:1c:00:0c\n"
          ]
        }
      ],
      "source": [
        "#Using Python to Get IP and MAC Addresses\n",
        "import socket\n",
        "import uuid\n",
        "\n",
        "# Get Hostname and IP Address\n",
        "hostname = socket.gethostname()\n",
        "ip_address = socket.gethostbyname(hostname)\n",
        "print(f\"Hostname: {hostname}\")\n",
        "print(f\"IP Address: {ip_address}\")\n",
        "\n",
        "# Get MAC Address\n",
        "mac_address = ':'.join(['{:02x}'.format((uuid.getnode() >> ele) & 0xff) for ele in range(0, 8 * 6, 8)][::-1])\n",
        "print(f\"MAC Address: {mac_address}\")\n",
        "#Explanation\n",
        "#socket.gethostname(): Retrieves the hostname of the local machine. #socket.gethostbyname(): Resolves the hostname to its IP address.\n",
        "#uuid.getnode(): Fetches the hardware (MAC) address of the machine. #MAC Address Formatting: Converts the MAC address into a human-readable format by shifting and masking bits.\n"
      ]
    },
    {
      "cell_type": "code",
      "source": [
        "#Writing Scripts to Perform Ping Sweeps\n",
        "import os\n",
        "import platform\n",
        "\n",
        "def ping_sweep(network_prefix, start=1, end=254):\n",
        "    param = '-n' if platform.system().lower() == 'windows' else '-c'\n",
        "    for ip in range(start, end + 1):\n",
        "        address = f\"{network_prefix}.{ip}\"\n",
        "        response = os.system(f\"ping {param} 1 {address} > /dev/null 2>&1\")\n",
        "        if response == 0:\n",
        "            print(f\"{address} is reachable\")\n",
        "        else:\n",
        "            print(f\"{address} is not reachable\")\n",
        "\n",
        "# Example usage\n",
        "ping_sweep(\"192.168.1\")\n",
        "#Ping Sweep: Checks the availability of multiple devices in a given IP range.\n",
        "#os.system(): Executes the ping command for each IP in the range.\n",
        "#platform.system(): Identifies the operating system to use the correct ping flag:#-n for Windows.#-c for Linux/macOS."
      ],
      "metadata": {
        "colab": {
          "base_uri": "https://localhost:8080/"
        },
        "id": "BWvW61uJro_b",
        "outputId": "05841ad1-32bb-4552-86db-f59599df0757"
      },
      "execution_count": null,
      "outputs": [
        {
          "output_type": "stream",
          "name": "stdout",
          "text": [
            "192.168.1.1 is not reachable\n",
            "192.168.1.2 is not reachable\n",
            "192.168.1.3 is not reachable\n",
            "192.168.1.4 is not reachable\n",
            "192.168.1.5 is not reachable\n",
            "192.168.1.6 is not reachable\n",
            "192.168.1.7 is not reachable\n",
            "192.168.1.8 is not reachable\n",
            "192.168.1.9 is not reachable\n",
            "192.168.1.10 is not reachable\n",
            "192.168.1.11 is not reachable\n",
            "192.168.1.12 is not reachable\n",
            "192.168.1.13 is not reachable\n",
            "192.168.1.14 is not reachable\n",
            "192.168.1.15 is not reachable\n",
            "192.168.1.16 is not reachable\n",
            "192.168.1.17 is not reachable\n",
            "192.168.1.18 is not reachable\n",
            "192.168.1.19 is not reachable\n",
            "192.168.1.20 is not reachable\n",
            "192.168.1.21 is not reachable\n",
            "192.168.1.22 is not reachable\n",
            "192.168.1.23 is not reachable\n",
            "192.168.1.24 is not reachable\n",
            "192.168.1.25 is not reachable\n",
            "192.168.1.26 is not reachable\n",
            "192.168.1.27 is not reachable\n",
            "192.168.1.28 is not reachable\n",
            "192.168.1.29 is not reachable\n",
            "192.168.1.30 is not reachable\n",
            "192.168.1.31 is not reachable\n",
            "192.168.1.32 is not reachable\n",
            "192.168.1.33 is not reachable\n",
            "192.168.1.34 is not reachable\n",
            "192.168.1.35 is not reachable\n",
            "192.168.1.36 is not reachable\n",
            "192.168.1.37 is not reachable\n",
            "192.168.1.38 is not reachable\n",
            "192.168.1.39 is not reachable\n",
            "192.168.1.40 is not reachable\n",
            "192.168.1.41 is not reachable\n",
            "192.168.1.42 is not reachable\n",
            "192.168.1.43 is not reachable\n",
            "192.168.1.44 is not reachable\n",
            "192.168.1.45 is not reachable\n",
            "192.168.1.46 is not reachable\n",
            "192.168.1.47 is not reachable\n",
            "192.168.1.48 is not reachable\n",
            "192.168.1.49 is not reachable\n",
            "192.168.1.50 is not reachable\n",
            "192.168.1.51 is not reachable\n",
            "192.168.1.52 is not reachable\n",
            "192.168.1.53 is not reachable\n",
            "192.168.1.54 is not reachable\n",
            "192.168.1.55 is not reachable\n",
            "192.168.1.56 is not reachable\n",
            "192.168.1.57 is not reachable\n",
            "192.168.1.58 is not reachable\n",
            "192.168.1.59 is not reachable\n",
            "192.168.1.60 is not reachable\n",
            "192.168.1.61 is not reachable\n",
            "192.168.1.62 is not reachable\n",
            "192.168.1.63 is not reachable\n",
            "192.168.1.64 is not reachable\n",
            "192.168.1.65 is not reachable\n",
            "192.168.1.66 is not reachable\n",
            "192.168.1.67 is not reachable\n",
            "192.168.1.68 is not reachable\n",
            "192.168.1.69 is not reachable\n",
            "192.168.1.70 is not reachable\n",
            "192.168.1.71 is not reachable\n",
            "192.168.1.72 is not reachable\n",
            "192.168.1.73 is not reachable\n",
            "192.168.1.74 is not reachable\n",
            "192.168.1.75 is not reachable\n",
            "192.168.1.76 is not reachable\n",
            "192.168.1.77 is not reachable\n",
            "192.168.1.78 is not reachable\n",
            "192.168.1.79 is not reachable\n",
            "192.168.1.80 is not reachable\n",
            "192.168.1.81 is not reachable\n",
            "192.168.1.82 is not reachable\n",
            "192.168.1.83 is not reachable\n",
            "192.168.1.84 is not reachable\n",
            "192.168.1.85 is not reachable\n",
            "192.168.1.86 is not reachable\n",
            "192.168.1.87 is not reachable\n",
            "192.168.1.88 is not reachable\n",
            "192.168.1.89 is not reachable\n",
            "192.168.1.90 is not reachable\n",
            "192.168.1.91 is not reachable\n",
            "192.168.1.92 is not reachable\n",
            "192.168.1.93 is not reachable\n",
            "192.168.1.94 is not reachable\n",
            "192.168.1.95 is not reachable\n",
            "192.168.1.96 is not reachable\n",
            "192.168.1.97 is not reachable\n",
            "192.168.1.98 is not reachable\n",
            "192.168.1.99 is not reachable\n",
            "192.168.1.100 is not reachable\n",
            "192.168.1.101 is not reachable\n",
            "192.168.1.102 is not reachable\n",
            "192.168.1.103 is not reachable\n",
            "192.168.1.104 is not reachable\n",
            "192.168.1.105 is not reachable\n",
            "192.168.1.106 is not reachable\n",
            "192.168.1.107 is not reachable\n",
            "192.168.1.108 is not reachable\n",
            "192.168.1.109 is not reachable\n",
            "192.168.1.110 is not reachable\n",
            "192.168.1.111 is not reachable\n",
            "192.168.1.112 is not reachable\n",
            "192.168.1.113 is not reachable\n",
            "192.168.1.114 is not reachable\n",
            "192.168.1.115 is not reachable\n",
            "192.168.1.116 is not reachable\n",
            "192.168.1.117 is not reachable\n",
            "192.168.1.118 is not reachable\n",
            "192.168.1.119 is not reachable\n",
            "192.168.1.120 is not reachable\n",
            "192.168.1.121 is not reachable\n",
            "192.168.1.122 is not reachable\n",
            "192.168.1.123 is not reachable\n",
            "192.168.1.124 is not reachable\n",
            "192.168.1.125 is not reachable\n",
            "192.168.1.126 is not reachable\n",
            "192.168.1.127 is not reachable\n",
            "192.168.1.128 is not reachable\n",
            "192.168.1.129 is not reachable\n",
            "192.168.1.130 is not reachable\n",
            "192.168.1.131 is not reachable\n",
            "192.168.1.132 is not reachable\n",
            "192.168.1.133 is not reachable\n",
            "192.168.1.134 is not reachable\n",
            "192.168.1.135 is not reachable\n",
            "192.168.1.136 is not reachable\n",
            "192.168.1.137 is not reachable\n",
            "192.168.1.138 is not reachable\n",
            "192.168.1.139 is not reachable\n",
            "192.168.1.140 is not reachable\n",
            "192.168.1.141 is not reachable\n",
            "192.168.1.142 is not reachable\n",
            "192.168.1.143 is not reachable\n",
            "192.168.1.144 is not reachable\n",
            "192.168.1.145 is not reachable\n",
            "192.168.1.146 is not reachable\n",
            "192.168.1.147 is not reachable\n",
            "192.168.1.148 is not reachable\n",
            "192.168.1.149 is not reachable\n",
            "192.168.1.150 is not reachable\n",
            "192.168.1.151 is not reachable\n",
            "192.168.1.152 is not reachable\n",
            "192.168.1.153 is not reachable\n",
            "192.168.1.154 is not reachable\n",
            "192.168.1.155 is not reachable\n",
            "192.168.1.156 is not reachable\n",
            "192.168.1.157 is not reachable\n",
            "192.168.1.158 is not reachable\n",
            "192.168.1.159 is not reachable\n",
            "192.168.1.160 is not reachable\n",
            "192.168.1.161 is not reachable\n",
            "192.168.1.162 is not reachable\n",
            "192.168.1.163 is not reachable\n",
            "192.168.1.164 is not reachable\n",
            "192.168.1.165 is not reachable\n",
            "192.168.1.166 is not reachable\n",
            "192.168.1.167 is not reachable\n",
            "192.168.1.168 is not reachable\n",
            "192.168.1.169 is not reachable\n",
            "192.168.1.170 is not reachable\n",
            "192.168.1.171 is not reachable\n",
            "192.168.1.172 is not reachable\n",
            "192.168.1.173 is not reachable\n",
            "192.168.1.174 is not reachable\n",
            "192.168.1.175 is not reachable\n",
            "192.168.1.176 is not reachable\n",
            "192.168.1.177 is not reachable\n",
            "192.168.1.178 is not reachable\n",
            "192.168.1.179 is not reachable\n",
            "192.168.1.180 is not reachable\n",
            "192.168.1.181 is not reachable\n",
            "192.168.1.182 is not reachable\n",
            "192.168.1.183 is not reachable\n",
            "192.168.1.184 is not reachable\n",
            "192.168.1.185 is not reachable\n",
            "192.168.1.186 is not reachable\n",
            "192.168.1.187 is not reachable\n",
            "192.168.1.188 is not reachable\n",
            "192.168.1.189 is not reachable\n",
            "192.168.1.190 is not reachable\n",
            "192.168.1.191 is not reachable\n",
            "192.168.1.192 is not reachable\n",
            "192.168.1.193 is not reachable\n",
            "192.168.1.194 is not reachable\n",
            "192.168.1.195 is not reachable\n",
            "192.168.1.196 is not reachable\n",
            "192.168.1.197 is not reachable\n",
            "192.168.1.198 is not reachable\n",
            "192.168.1.199 is not reachable\n",
            "192.168.1.200 is not reachable\n",
            "192.168.1.201 is not reachable\n",
            "192.168.1.202 is not reachable\n",
            "192.168.1.203 is not reachable\n",
            "192.168.1.204 is not reachable\n",
            "192.168.1.205 is not reachable\n",
            "192.168.1.206 is not reachable\n",
            "192.168.1.207 is not reachable\n",
            "192.168.1.208 is not reachable\n",
            "192.168.1.209 is not reachable\n",
            "192.168.1.210 is not reachable\n",
            "192.168.1.211 is not reachable\n",
            "192.168.1.212 is not reachable\n",
            "192.168.1.213 is not reachable\n",
            "192.168.1.214 is not reachable\n",
            "192.168.1.215 is not reachable\n",
            "192.168.1.216 is not reachable\n",
            "192.168.1.217 is not reachable\n",
            "192.168.1.218 is not reachable\n",
            "192.168.1.219 is not reachable\n",
            "192.168.1.220 is not reachable\n",
            "192.168.1.221 is not reachable\n",
            "192.168.1.222 is not reachable\n",
            "192.168.1.223 is not reachable\n",
            "192.168.1.224 is not reachable\n",
            "192.168.1.225 is not reachable\n",
            "192.168.1.226 is not reachable\n",
            "192.168.1.227 is not reachable\n",
            "192.168.1.228 is not reachable\n",
            "192.168.1.229 is not reachable\n",
            "192.168.1.230 is not reachable\n",
            "192.168.1.231 is not reachable\n",
            "192.168.1.232 is not reachable\n",
            "192.168.1.233 is not reachable\n",
            "192.168.1.234 is not reachable\n",
            "192.168.1.235 is not reachable\n",
            "192.168.1.236 is not reachable\n",
            "192.168.1.237 is not reachable\n",
            "192.168.1.238 is not reachable\n",
            "192.168.1.239 is not reachable\n",
            "192.168.1.240 is not reachable\n",
            "192.168.1.241 is not reachable\n",
            "192.168.1.242 is not reachable\n",
            "192.168.1.243 is not reachable\n",
            "192.168.1.244 is not reachable\n",
            "192.168.1.245 is not reachable\n",
            "192.168.1.246 is not reachable\n",
            "192.168.1.247 is not reachable\n",
            "192.168.1.248 is not reachable\n",
            "192.168.1.249 is not reachable\n",
            "192.168.1.250 is not reachable\n",
            "192.168.1.251 is not reachable\n",
            "192.168.1.252 is not reachable\n",
            "192.168.1.253 is not reachable\n",
            "192.168.1.254 is not reachable\n"
          ]
        }
      ]
    },
    {
      "cell_type": "code",
      "source": [
        "#Writing Scripts for Port Scanning\n",
        "import socket\n",
        "def port_scan(target, ports):\n",
        "    print(f\"Scanning {target}...\")\n",
        "    for port in ports:\n",
        "        with socket.socket(socket.AF_INET, socket.SOCK_STREAM) as s:\n",
        "            s.settimeout(0.5)\n",
        "            result = s.connect_ex((target, port))\n",
        "            if result == 0:\n",
        "                print(f\"Port {port} is open.\")\n",
        "            else:\n",
        "                print(f\"Port {port} is closed.\")\n",
        "\n",
        "# Example usage\n",
        "target_ip = \"192.168.1.1\"\n",
        "ports_to_scan = [21, 22, 80, 443, 8080]\n",
        "port_scan(target_ip, ports_to_scan)\n",
        "#socket.AF_INET: Specifies IPv4 addressing. socket.SOCK_STREAM: Specifies TCP connections.\n",
        "#connect_ex(): Attempts to connect to a port and returns 0 if successful.settimeout(): Limits the time the connection waits for a response."
      ],
      "metadata": {
        "colab": {
          "base_uri": "https://localhost:8080/"
        },
        "id": "WCCoAzcPr6FU",
        "outputId": "59436489-449a-4993-f272-f1ae37dd7ab0"
      },
      "execution_count": null,
      "outputs": [
        {
          "output_type": "stream",
          "name": "stdout",
          "text": [
            "Scanning 192.168.1.1...\n",
            "Port 21 is closed.\n",
            "Port 22 is closed.\n",
            "Port 80 is closed.\n",
            "Port 443 is closed.\n",
            "Port 8080 is closed.\n"
          ]
        }
      ]
    },
    {
      "cell_type": "code",
      "source": [
        "pip install whois"
      ],
      "metadata": {
        "colab": {
          "base_uri": "https://localhost:8080/"
        },
        "id": "kr5u_y6sRD7B",
        "outputId": "2121671f-c74b-490d-c5a9-f849e1543773"
      },
      "execution_count": null,
      "outputs": [
        {
          "output_type": "stream",
          "name": "stdout",
          "text": [
            "Collecting whois\n",
            "  Downloading whois-1.20240129.2-py3-none-any.whl.metadata (1.3 kB)\n",
            "Downloading whois-1.20240129.2-py3-none-any.whl (61 kB)\n",
            "\u001b[?25l   \u001b[90m━━━━━━━━━━━━━━━━━━━━━━━━━━━━━━━━━━━━━━━━\u001b[0m \u001b[32m0.0/61.8 kB\u001b[0m \u001b[31m?\u001b[0m eta \u001b[36m-:--:--\u001b[0m\r\u001b[2K   \u001b[90m━━━━━━━━━━━━━━━━━━━━━━━━━━━━━━━━━━━━━━━━\u001b[0m \u001b[32m61.8/61.8 kB\u001b[0m \u001b[31m3.7 MB/s\u001b[0m eta \u001b[36m0:00:00\u001b[0m\n",
            "\u001b[?25hInstalling collected packages: whois\n",
            "Successfully installed whois-1.20240129.2\n"
          ]
        }
      ]
    },
    {
      "cell_type": "code",
      "source": [
        "pip install python-whois"
      ],
      "metadata": {
        "id": "kcFdncxaRjv_",
        "outputId": "7e691e8b-a32b-4e67-e025-447ea16a82ec",
        "colab": {
          "base_uri": "https://localhost:8080/",
          "height": 252
        }
      },
      "execution_count": null,
      "outputs": [
        {
          "output_type": "stream",
          "name": "stdout",
          "text": [
            "Collecting python-whois\n",
            "  Downloading python_whois-0.9.5-py3-none-any.whl.metadata (2.6 kB)\n",
            "Requirement already satisfied: python-dateutil in /usr/local/lib/python3.10/dist-packages (from python-whois) (2.8.2)\n",
            "Requirement already satisfied: six>=1.5 in /usr/local/lib/python3.10/dist-packages (from python-dateutil->python-whois) (1.17.0)\n",
            "Downloading python_whois-0.9.5-py3-none-any.whl (104 kB)\n",
            "\u001b[?25l   \u001b[90m━━━━━━━━━━━━━━━━━━━━━━━━━━━━━━━━━━━━━━━━\u001b[0m \u001b[32m0.0/104.2 kB\u001b[0m \u001b[31m?\u001b[0m eta \u001b[36m-:--:--\u001b[0m\r\u001b[2K   \u001b[90m━━━━━━━━━━━━━━━━━━━━━━━━━━━━━━━━━━━━━━━━\u001b[0m \u001b[32m104.2/104.2 kB\u001b[0m \u001b[31m6.9 MB/s\u001b[0m eta \u001b[36m0:00:00\u001b[0m\n",
            "\u001b[?25hInstalling collected packages: python-whois\n",
            "Successfully installed python-whois-0.9.5\n"
          ]
        },
        {
          "output_type": "display_data",
          "data": {
            "application/vnd.colab-display-data+json": {
              "pip_warning": {
                "packages": [
                  "whois"
                ]
              },
              "id": "0b30140698cc46afb0d1f33c9b53f45f"
            }
          },
          "metadata": {}
        }
      ]
    },
    {
      "cell_type": "code",
      "source": [
        "#Reconnaissance and Information Gathering, Extracting WHOIS Information\n",
        "import whois\n",
        "\n",
        "def get_whois(domain):\n",
        "    try:\n",
        "        w = whois.whois(domain)\n",
        "        print(f\"Domain: {w.domain_name}\")\n",
        "        print(f\"Registrar: {w.registrar}\")\n",
        "        print(f\"Creation Date: {w.creation_date}\")\n",
        "        print(f\"Expiration Date: {w.expiration_date}\")\n",
        "        print(f\"Name Servers: {w.name_servers}\")\n",
        "    except Exception as e:\n",
        "        print(f\"Error: {e}\")\n",
        "\n",
        "# Example usage\n",
        "get_whois(\"www.duet.edu.pk\")\n",
        "#whois.whois(): Retrieves registration data of a domain, such as:\n",
        "#Registrar (e.g., Namecheap).Creation and expiration dates.Associated name servers."
      ],
      "metadata": {
        "colab": {
          "base_uri": "https://localhost:8080/"
        },
        "id": "T8e-wJK0Q0HZ",
        "outputId": "51e0f0d7-2ee9-453a-fdab-569ee94ae190"
      },
      "execution_count": 2,
      "outputs": [
        {
          "output_type": "stream",
          "name": "stdout",
          "text": [
            "Domain: None\n",
            "Registrar: None\n",
            "Creation Date: 2013-05-20 00:00:00\n",
            "Expiration Date: 2031-05-20 00:00:00\n",
            "Name Servers: ['dns1.hosterpk.com', 'dns2.hosterpk.com']\n"
          ]
        }
      ]
    },
    {
      "cell_type": "code",
      "source": [
        "pip install dnspython"
      ],
      "metadata": {
        "colab": {
          "base_uri": "https://localhost:8080/"
        },
        "id": "DBODq_dDWRdX",
        "outputId": "73c807b0-7dd3-419b-af85-4b0db403a2fb"
      },
      "execution_count": 5,
      "outputs": [
        {
          "output_type": "stream",
          "name": "stdout",
          "text": [
            "Collecting dnspython\n",
            "  Downloading dnspython-2.7.0-py3-none-any.whl.metadata (5.8 kB)\n",
            "Downloading dnspython-2.7.0-py3-none-any.whl (313 kB)\n",
            "\u001b[?25l   \u001b[90m━━━━━━━━━━━━━━━━━━━━━━━━━━━━━━━━━━━━━━━━\u001b[0m \u001b[32m0.0/313.6 kB\u001b[0m \u001b[31m?\u001b[0m eta \u001b[36m-:--:--\u001b[0m\r\u001b[2K   \u001b[90m━━━━━━━━━━━━━━━━━━━━━━━━━━━━━━━━━━━━━━━━\u001b[0m \u001b[32m313.6/313.6 kB\u001b[0m \u001b[31m10.6 MB/s\u001b[0m eta \u001b[36m0:00:00\u001b[0m\n",
            "\u001b[?25hInstalling collected packages: dnspython\n",
            "Successfully installed dnspython-2.7.0\n"
          ]
        }
      ]
    },
    {
      "cell_type": "code",
      "source": [
        "!pip install dnspython"
      ],
      "metadata": {
        "colab": {
          "base_uri": "https://localhost:8080/"
        },
        "id": "qPwKK29OXC6v",
        "outputId": "9ece947e-0272-4b10-8711-877c9b720116"
      },
      "execution_count": 6,
      "outputs": [
        {
          "output_type": "stream",
          "name": "stdout",
          "text": [
            "Requirement already satisfied: dnspython in /usr/local/lib/python3.10/dist-packages (2.7.0)\n"
          ]
        }
      ]
    },
    {
      "cell_type": "code",
      "source": [
        "pip show dnspython"
      ],
      "metadata": {
        "colab": {
          "base_uri": "https://localhost:8080/"
        },
        "id": "JTczfwsGXJCG",
        "outputId": "ddd70637-eed6-4e3e-bdb5-f523beeffd49"
      },
      "execution_count": 7,
      "outputs": [
        {
          "output_type": "stream",
          "name": "stdout",
          "text": [
            "Name: dnspython\n",
            "Version: 2.7.0\n",
            "Summary: DNS toolkit\n",
            "Home-page: https://www.dnspython.org\n",
            "Author: \n",
            "Author-email: Bob Halley <halley@dnspython.org>\n",
            "License: ISC\n",
            "Location: /usr/local/lib/python3.10/dist-packages\n",
            "Requires: \n",
            "Required-by: \n"
          ]
        }
      ]
    },
    {
      "cell_type": "code",
      "source": [
        "#DNS Enumeration\n",
        "import dns.resolver\n",
        "\n",
        "def dns_enumerate(domain):\n",
        "    try:\n",
        "        result = dns.resolver.resolve(domain, 'A')\n",
        "        for ipval in result:\n",
        "            print(f\"A Record: {ipval.to_text()}\")\n",
        "        result = dns.resolver.resolve(domain, 'MX')\n",
        "        for mail in result:\n",
        "            print(f\"MX Record: {mail.exchange}\")\n",
        "        result = dns.resolver.resolve(domain, 'NS')\n",
        "        for ns in result:\n",
        "            print(f\"NS Record: {ns}\")\n",
        "    except Exception as e:\n",
        "        print(f\"Error: {e}\")\n",
        "\n",
        "# Example usage\n",
        "dns_enumerate(\"example.com\")\n",
        "#DNS Records: A Record: Maps a domain to its IP address. MX Record: Specifies mail servers for the domain. NS Record: Identifies name servers for the domain. dns.resolver.resolve(): Queries the DNS for specific record types.\n"
      ],
      "metadata": {
        "colab": {
          "base_uri": "https://localhost:8080/"
        },
        "id": "haZLZIwySGcH",
        "outputId": "174e566d-48e0-4f4c-e164-011cfd485dd4"
      },
      "execution_count": 12,
      "outputs": [
        {
          "output_type": "stream",
          "name": "stdout",
          "text": [
            "A Record: 93.184.215.14\n",
            "MX Record: .\n",
            "NS Record: a.iana-servers.net.\n",
            "NS Record: b.iana-servers.net.\n"
          ]
        }
      ]
    },
    {
      "cell_type": "code",
      "source": [
        "#Banner Grabbing\n",
        "import socket\n",
        "\n",
        "def banner_grab(target, port):\n",
        "    try:\n",
        "        with socket.socket(socket.AF_INET, socket.SOCK_STREAM) as s:\n",
        "            s.settimeout(1)\n",
        "            s.connect((target, port))\n",
        "            s.sendall(b\"HEAD / HTTP/1.1\\r\\nHost: target\\r\\n\\r\\n\")\n",
        "            banner = s.recv(1024)\n",
        "            print(f\"Banner from {target}:{port}:\\n{banner.decode().strip()}\")\n",
        "    except Exception as e:\n",
        "        print(f\"Error: {e}\")\n",
        "\n",
        "# Example usage\n",
        "banner_grab(\"example.com\", 80)\n"
      ],
      "metadata": {
        "colab": {
          "base_uri": "https://localhost:8080/"
        },
        "id": "noSODvkfYx8T",
        "outputId": "f255900c-7fb6-441d-bf8f-c82fb08a4aa0"
      },
      "execution_count": 13,
      "outputs": [
        {
          "output_type": "stream",
          "name": "stdout",
          "text": [
            "Banner from example.com:80:\n",
            "HTTP/1.1 404 Not Found\r\n",
            "Content-Type: text/html\r\n",
            "Date: Fri, 27 Dec 2024 04:32:55 GMT\r\n",
            "Server: ECAcc (nyd/D125)\r\n",
            "Content-Length: 345\n"
          ]
        }
      ]
    }
  ]
}