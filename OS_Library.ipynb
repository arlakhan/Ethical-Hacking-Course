{
  "nbformat": 4,
  "nbformat_minor": 0,
  "metadata": {
    "colab": {
      "provenance": []
    },
    "kernelspec": {
      "name": "python3",
      "display_name": "Python 3"
    },
    "language_info": {
      "name": "python"
    }
  },
  "cells": [
    {
      "cell_type": "code",
      "execution_count": 3,
      "metadata": {
        "colab": {
          "base_uri": "https://localhost:8080/"
        },
        "id": "hfGAYVaMglRp",
        "outputId": "f446798f-8ceb-40e1-d454-6340b7c4609a"
      },
      "outputs": [
        {
          "output_type": "stream",
          "name": "stdout",
          "text": [
            "Files in the current directory:\n",
            "test.txt\n",
            ".ipynb_checkpoints\n"
          ]
        }
      ],
      "source": [
        "# Using the os library to list files in the current directory\n",
        "import os\n",
        "\n",
        "files = os.listdir(\"files\")\n",
        "print(\"Files in the current directory:\")\n",
        "for file in files:\n",
        "    print(file)\n"
      ]
    }
  ]
}