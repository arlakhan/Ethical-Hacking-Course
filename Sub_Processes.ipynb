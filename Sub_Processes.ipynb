{
  "nbformat": 4,
  "nbformat_minor": 0,
  "metadata": {
    "colab": {
      "provenance": []
    },
    "kernelspec": {
      "name": "python3",
      "display_name": "Python 3"
    },
    "language_info": {
      "name": "python"
    }
  },
  "cells": [
    {
      "cell_type": "code",
      "execution_count": 1,
      "metadata": {
        "colab": {
          "base_uri": "https://localhost:8080/"
        },
        "id": "0JhJAw90hhLV",
        "outputId": "1f8f7389-2d47-47d0-be53-97750594c5de"
      },
      "outputs": [
        {
          "output_type": "stream",
          "name": "stdout",
          "text": [
            "Command output:\n",
            "Hello, World!\n",
            "\n"
          ]
        }
      ],
      "source": [
        "# Using the subprocess library to run a shell command\n",
        "import subprocess\n",
        "\n",
        "command = \"echo Hello, World!\"\n",
        "result = subprocess.run(command, shell=True, capture_output=True, text=True)\n",
        "print(\"Command output:\")\n",
        "print(result.stdout)\n"
      ]
    }
  ]
}