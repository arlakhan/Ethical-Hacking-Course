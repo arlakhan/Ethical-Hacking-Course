{
  "nbformat": 4,
  "nbformat_minor": 0,
  "metadata": {
    "colab": {
      "provenance": []
    },
    "kernelspec": {
      "name": "python3",
      "display_name": "Python 3"
    },
    "language_info": {
      "name": "python"
    }
  },
  "cells": [
    {
      "cell_type": "code",
      "execution_count": 1,
      "metadata": {
        "colab": {
          "base_uri": "https://localhost:8080/"
        },
        "id": "YNsEdRqDff1Y",
        "outputId": "ba729631-2cff-481c-ca6a-f92327a7738f"
      },
      "outputs": [
        {
          "output_type": "stream",
          "name": "stdout",
          "text": [
            "Using a for loop:\n",
            "Iteration 1\n",
            "Iteration 2\n",
            "Iteration 3\n",
            "Iteration 4\n",
            "Iteration 5\n",
            "\n",
            "Using a while loop:\n",
            "Iteration 1\n",
            "Iteration 2\n",
            "Iteration 3\n",
            "Iteration 4\n",
            "Iteration 5\n"
          ]
        }
      ],
      "source": [
        "# Script demonstrating loops\n",
        "print(\"Using a for loop:\")\n",
        "for i in range(1, 6):\n",
        "    print(f\"Iteration {i}\")\n",
        "\n",
        "print(\"\\nUsing a while loop:\")\n",
        "count = 1\n",
        "while count <= 5:\n",
        "    print(f\"Iteration {count}\")\n",
        "    count += 1\n"
      ]
    }
  ]
}