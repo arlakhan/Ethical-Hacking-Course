{
  "nbformat": 4,
  "nbformat_minor": 0,
  "metadata": {
    "colab": {
      "provenance": []
    },
    "kernelspec": {
      "name": "python3",
      "display_name": "Python 3"
    },
    "language_info": {
      "name": "python"
    }
  },
  "cells": [
    {
      "cell_type": "code",
      "execution_count": 1,
      "metadata": {
        "colab": {
          "base_uri": "https://localhost:8080/"
        },
        "id": "yabCaagmh3YE",
        "outputId": "417a5183-9e69-4e04-fc6d-3d4a17e7ba7d"
      },
      "outputs": [
        {
          "output_type": "stream",
          "name": "stdout",
          "text": [
            "Command-line arguments:\n",
            "Argument 0: /usr/local/lib/python3.10/dist-packages/colab_kernel_launcher.py\n",
            "Argument 1: -f\n",
            "Argument 2: /root/.local/share/jupyter/runtime/kernel-13a0bb14-a6a8-488d-9fc7-c8b0eb5f1114.json\n"
          ]
        }
      ],
      "source": [
        "# Using the sys library to print command-line arguments\n",
        "import sys\n",
        "\n",
        "print(\"Command-line arguments:\")\n",
        "for idx, arg in enumerate(sys.argv):\n",
        "    print(f\"Argument {idx}: {arg}\")\n"
      ]
    }
  ]
}