{
  "nbformat": 4,
  "nbformat_minor": 0,
  "metadata": {
    "colab": {
      "provenance": []
    },
    "kernelspec": {
      "name": "python3",
      "display_name": "Python 3"
    },
    "language_info": {
      "name": "python"
    }
  },
  "cells": [
    {
      "cell_type": "code",
      "execution_count": 8,
      "metadata": {
        "colab": {
          "base_uri": "https://localhost:8080/"
        },
        "id": "xoFHfO0tfRsw",
        "outputId": "4f8ec2fb-6063-4613-992e-c488cef7ab5a"
      },
      "outputs": [
        {
          "output_type": "stream",
          "name": "stdout",
          "text": [
            "HTTP Status Code: 200\n",
            "\n",
            "HTTP Headers:\n",
            "Date: Fri, 27 Dec 2024 05:06:27 GMT\n",
            "Expires: -1\n",
            "Cache-Control: private, max-age=0\n",
            "Content-Type: text/html; charset=ISO-8859-1\n",
            "Content-Security-Policy-Report-Only: object-src 'none';base-uri 'self';script-src 'nonce-LdnDQL6N7miHuDRZ-P8-iQ' 'strict-dynamic' 'report-sample' 'unsafe-eval' 'unsafe-inline' https: http:;report-uri https://csp.withgoogle.com/csp/gws/other-hp\n",
            "Accept-CH: Sec-CH-Prefers-Color-Scheme\n",
            "P3P: CP=\"This is not a P3P policy! See g.co/p3phelp for more info.\"\n",
            "Content-Encoding: gzip\n",
            "Server: gws\n",
            "X-XSS-Protection: 0\n",
            "X-Frame-Options: SAMEORIGIN\n",
            "Set-Cookie: AEC=AZ6Zc-VCgyDJnNQ4mgMb6t-x95T6A8OwvAX5j5yV6Hcs3CfgSIpWkfIttsU; expires=Wed, 25-Jun-2025 05:06:27 GMT; path=/; domain=.google.com; Secure; HttpOnly; SameSite=lax, NID=520=awq85kYNoQGT0OUCbERvnoXQEJOJWzgIf_teGvy48hDiMmKDn9bv3oeqz9EQCczkZnp3HsMv3aUCVSHiGXxdMHznrIgNnxIYAOKHvsHWUClWSQFB3a0_oFqA8wZ5c7Q60aLjgnHMpkDEZBsXlgZWqlTUSP6W2gASMUQ5Eoalke9V1Lkwp0MuFp_lSgiseNP9qJtyBQFW; expires=Sat, 28-Jun-2025 05:06:27 GMT; path=/; domain=.google.com; HttpOnly\n",
            "Transfer-Encoding: chunked\n",
            "\n",
            "\n",
            "Website Metadata:\n",
            "description: Search the world's information, including webpages, images, videos and more. Google has many special features to help you find exactly what you're looking for.\n",
            "robots: noodp, \n",
            "twitter:title: Seasonal Holidays 2024\n",
            "twitter:description: Happy Holidays! #GoogleDoodle\n",
            "og:description: Happy Holidays! #GoogleDoodle\n",
            "twitter:card: summary_large_image\n",
            "twitter:site: @GoogleDoodles\n",
            "twitter:image: https://www.google.com/logos/doodles/2024/seasonal-holidays-2024-6753651837110333-2xa.gif\n",
            "og:image: https://www.google.com/logos/doodles/2024/seasonal-holidays-2024-6753651837110333-2xa.gif\n",
            "og:image:width: 1000\n",
            "og:image:height: 400\n",
            "og:url: https://www.google.com/logos/doodles/2024/seasonal-holidays-2024-6753651837110333-2xa.gif\n",
            "og:type: video.other\n"
          ]
        }
      ],
      "source": [
        "#Module\n",
        "#Script for Website Metadata Extraction and HTTP Header Analysis\n",
        "import requests\n",
        "from bs4 import BeautifulSoup\n",
        "\n",
        "# Function to fetch and analyze website metadata\n",
        "def fetch_metadata(url):\n",
        "    try:\n",
        "        # Send HTTP GET request\n",
        "        response = requests.get(url)\n",
        "        print(f\"HTTP Status Code: {response.status_code}\\n\")\n",
        "\n",
        "        # Print HTTP headers\n",
        "        print(\"HTTP Headers:\")\n",
        "        for key, value in response.headers.items():\n",
        "            print(f\"{key}: {value}\")\n",
        "        print(\"\\n\")\n",
        "\n",
        "        # Parse HTML content\n",
        "        soup = BeautifulSoup(response.text, 'html.parser')\n",
        "\n",
        "        # Extract metadata\n",
        "        print(\"Website Metadata:\")\n",
        "        for meta in soup.find_all('meta'):\n",
        "            if meta.attrs.get('name') or meta.attrs.get('property'):\n",
        "                meta_name = meta.attrs.get('name') or meta.attrs.get('property')\n",
        "                meta_content = meta.attrs.get('content', 'No Content')\n",
        "                print(f\"{meta_name}: {meta_content}\")\n",
        "    except Exception as e:\n",
        "        print(f\"Error: {e}\")\n",
        "\n",
        "# Test the function\n",
        "url = \" https://www.google.com\"\n",
        "#url = \" https://admissions.duet.edu.pk/?_ga=2.81080151.1546197226.1735275886-1696887726.1731993913&_gl=1%2A19epahr%2A_ga%2AMTY5Njg4NzcyNi4xNzMxOTkzOTEz%2A_ga_SSDTD4S3DF%2AMTczNTI3NTg4Ni4zLjAuMTczNTI3NTg4Ni42MC4wLjA\"\n",
        "fetch_metadata(url)\n"
      ]
    },
    {
      "cell_type": "code",
      "source": [
        "pip install dnspython"
      ],
      "metadata": {
        "colab": {
          "base_uri": "https://localhost:8080/"
        },
        "id": "2ZYgTFMhiZqJ",
        "outputId": "1bb6a214-751d-42cc-d92e-73a5b676e203"
      },
      "execution_count": 12,
      "outputs": [
        {
          "output_type": "stream",
          "name": "stdout",
          "text": [
            "Collecting dnspython\n",
            "  Downloading dnspython-2.7.0-py3-none-any.whl.metadata (5.8 kB)\n",
            "Downloading dnspython-2.7.0-py3-none-any.whl (313 kB)\n",
            "\u001b[2K   \u001b[90m━━━━━━━━━━━━━━━━━━━━━━━━━━━━━━━━━━━━━━━━\u001b[0m \u001b[32m313.6/313.6 kB\u001b[0m \u001b[31m5.0 MB/s\u001b[0m eta \u001b[36m0:00:00\u001b[0m\n",
            "\u001b[?25hInstalling collected packages: dnspython\n",
            "Successfully installed dnspython-2.7.0\n"
          ]
        }
      ]
    },
    {
      "cell_type": "code",
      "source": [
        "#Lab 4: DNS and WHOIS Lookup. Objective: Perform DNS enumeration and WHOIS queries using Python.\n",
        "#Required Libraries: socket: For basic DNS queries.dnspython: A powerful library for advanced DNS operations.\n",
        "#whois and ipwhois: To perform WHOIS lookups. Script for DNS Enumeration\n",
        "\n",
        "import socket\n",
        "import dns.resolver\n",
        "\n",
        "# Function for basic DNS lookup\n",
        "def basic_dns_lookup(domain):\n",
        "    try:\n",
        "        print(f\"Basic DNS Lookup for {domain}:\")\n",
        "        ip = socket.gethostbyname(domain)\n",
        "        print(f\"IP Address: {ip}\\n\")\n",
        "    except Exception as e:\n",
        "        print(f\"Error: {e}\\n\")\n",
        "\n",
        "# Function for advanced DNS enumeration\n",
        "def advanced_dns_lookup(domain):\n",
        "    try:\n",
        "        print(f\"Advanced DNS Lookup for {domain}:\")\n",
        "        resolver = dns.resolver.Resolver()\n",
        "        for record_type in ['A', 'AAAA', 'MX', 'NS', 'TXT']:\n",
        "            try:\n",
        "                answers = resolver.resolve(domain, record_type)\n",
        "                print(f\"{record_type} Records:\")\n",
        "                for rdata in answers:\n",
        "                    print(f\"  {rdata}\")\n",
        "            except dns.resolver.NoAnswer:\n",
        "                print(f\"No {record_type} records found.\")\n",
        "        print(\"\\n\")\n",
        "    except Exception as e:\n",
        "        print(f\"Error: {e}\\n\")\n",
        "\n",
        "# Test DNS functions\n",
        "domain = \"google.com\"\n",
        "basic_dns_lookup(domain)\n",
        "advanced_dns_lookup(domain)\n"
      ],
      "metadata": {
        "colab": {
          "base_uri": "https://localhost:8080/"
        },
        "id": "ZKAOl4xih_2n",
        "outputId": "cffb1493-6d62-4f02-fae4-cc22b66c0e75"
      },
      "execution_count": 14,
      "outputs": [
        {
          "output_type": "stream",
          "name": "stdout",
          "text": [
            "Basic DNS Lookup for google.com:\n",
            "IP Address: 142.251.107.138\n",
            "\n",
            "Advanced DNS Lookup for google.com:\n",
            "A Records:\n",
            "  142.251.107.138\n",
            "  142.251.107.102\n",
            "  142.251.107.113\n",
            "  142.251.107.139\n",
            "  142.251.107.101\n",
            "  142.251.107.100\n",
            "AAAA Records:\n",
            "  2607:f8b0:400c:c32::71\n",
            "  2607:f8b0:400c:c32::8a\n",
            "  2607:f8b0:400c:c32::8b\n",
            "  2607:f8b0:400c:c32::66\n",
            "MX Records:\n",
            "  10 smtp.google.com.\n",
            "NS Records:\n",
            "  ns4.google.com.\n",
            "  ns3.google.com.\n",
            "  ns1.google.com.\n",
            "  ns2.google.com.\n",
            "Error: The resolution lifetime expired after 5.404 seconds: Server Do53:127.0.0.11@53 answered ; Server Do53:127.0.0.11@53 answered The DNS operation timed out.; Server Do53:127.0.0.11@53 answered ; Server Do53:127.0.0.11@53 answered The DNS operation timed out.; Server Do53:127.0.0.11@53 answered ; Server Do53:127.0.0.11@53 answered The DNS operation timed out.\n",
            "\n"
          ]
        }
      ]
    },
    {
      "cell_type": "code",
      "source": [
        "!pip install python-whois"
      ],
      "metadata": {
        "colab": {
          "base_uri": "https://localhost:8080/"
        },
        "id": "vpb2hgp2kZgV",
        "outputId": "4fad9228-895d-418c-fa51-b343f9ab2584"
      },
      "execution_count": 16,
      "outputs": [
        {
          "output_type": "stream",
          "name": "stdout",
          "text": [
            "Collecting python-whois\n",
            "  Downloading python_whois-0.9.5-py3-none-any.whl.metadata (2.6 kB)\n",
            "Requirement already satisfied: python-dateutil in /usr/local/lib/python3.10/dist-packages (from python-whois) (2.8.2)\n",
            "Requirement already satisfied: six>=1.5 in /usr/local/lib/python3.10/dist-packages (from python-dateutil->python-whois) (1.17.0)\n",
            "Downloading python_whois-0.9.5-py3-none-any.whl (104 kB)\n",
            "\u001b[?25l   \u001b[90m━━━━━━━━━━━━━━━━━━━━━━━━━━━━━━━━━━━━━━━━\u001b[0m \u001b[32m0.0/104.2 kB\u001b[0m \u001b[31m?\u001b[0m eta \u001b[36m-:--:--\u001b[0m\r\u001b[2K   \u001b[91m━━━━━━━━━━━━━━━━━━━━━━━━━━━━━━━━━━━━━━━\u001b[0m\u001b[90m╺\u001b[0m \u001b[32m102.4/104.2 kB\u001b[0m \u001b[31m3.1 MB/s\u001b[0m eta \u001b[36m0:00:01\u001b[0m\r\u001b[2K   \u001b[90m━━━━━━━━━━━━━━━━━━━━━━━━━━━━━━━━━━━━━━━━\u001b[0m \u001b[32m104.2/104.2 kB\u001b[0m \u001b[31m2.2 MB/s\u001b[0m eta \u001b[36m0:00:00\u001b[0m\n",
            "\u001b[?25hInstalling collected packages: python-whois\n",
            "Successfully installed python-whois-0.9.5\n"
          ]
        }
      ]
    },
    {
      "cell_type": "code",
      "source": [
        "#Script for WHOIS Lookup\n",
        "import whois\n",
        "\n",
        "# Function for WHOIS lookup\n",
        "def whois_lookup(domain):\n",
        "    try:\n",
        "        print(f\"WHOIS Lookup for {domain}:\")\n",
        "        domain_info = whois.whois(domain)\n",
        "        print(f\"Registrar: {domain_info.registrar}\")\n",
        "        print(f\"Creation Date: {domain_info.creation_date}\")\n",
        "        print(f\"Expiration Date: {domain_info.expiration_date}\")\n",
        "        print(f\"Name Servers: {domain_info.name_servers}\")\n",
        "        print(f\"Status: {domain_info.status}\")\n",
        "    except Exception as e:\n",
        "        print(f\"Error: {e}\")\n",
        "\n",
        "# Test WHOIS function\n",
        "whois_lookup(domain)\n"
      ],
      "metadata": {
        "colab": {
          "base_uri": "https://localhost:8080/"
        },
        "id": "Uu3-fQeZj9g7",
        "outputId": "56d2b60c-16f5-422a-c883-ae0bd68fe6b8"
      },
      "execution_count": 17,
      "outputs": [
        {
          "output_type": "stream",
          "name": "stdout",
          "text": [
            "WHOIS Lookup for google.com:\n",
            "Registrar: MarkMonitor, Inc.\n",
            "Creation Date: [datetime.datetime(1997, 9, 15, 4, 0), datetime.datetime(1997, 9, 15, 7, 0, tzinfo=datetime.timezone.utc)]\n",
            "Expiration Date: [datetime.datetime(2028, 9, 14, 4, 0), datetime.datetime(2028, 9, 13, 7, 0, tzinfo=datetime.timezone.utc)]\n",
            "Name Servers: ['NS1.GOOGLE.COM', 'NS2.GOOGLE.COM', 'NS3.GOOGLE.COM', 'NS4.GOOGLE.COM']\n",
            "Status: ['clientDeleteProhibited https://icann.org/epp#clientDeleteProhibited', 'clientTransferProhibited https://icann.org/epp#clientTransferProhibited', 'clientUpdateProhibited https://icann.org/epp#clientUpdateProhibited', 'serverDeleteProhibited https://icann.org/epp#serverDeleteProhibited', 'serverTransferProhibited https://icann.org/epp#serverTransferProhibited', 'serverUpdateProhibited https://icann.org/epp#serverUpdateProhibited', 'clientUpdateProhibited (https://www.icann.org/epp#clientUpdateProhibited)', 'clientTransferProhibited (https://www.icann.org/epp#clientTransferProhibited)', 'clientDeleteProhibited (https://www.icann.org/epp#clientDeleteProhibited)', 'serverUpdateProhibited (https://www.icann.org/epp#serverUpdateProhibited)', 'serverTransferProhibited (https://www.icann.org/epp#serverTransferProhibited)', 'serverDeleteProhibited (https://www.icann.org/epp#serverDeleteProhibited)']\n"
          ]
        }
      ]
    }
  ]
}