{
  "nbformat": 4,
  "nbformat_minor": 0,
  "metadata": {
    "colab": {
      "provenance": []
    },
    "kernelspec": {
      "name": "python3",
      "display_name": "Python 3"
    },
    "language_info": {
      "name": "python"
    }
  },
  "cells": [
    {
      "cell_type": "code",
      "execution_count": 1,
      "metadata": {
        "colab": {
          "base_uri": "https://localhost:8080/"
        },
        "id": "rmdDIu4DgNxB",
        "outputId": "a5c75b64-8f94-43a9-cb24-2f6324dfbf34"
      },
      "outputs": [
        {
          "output_type": "stream",
          "name": "stdout",
          "text": [
            "Hostname: c1efe2d44b16\n",
            "IP Address: 172.28.0.12\n"
          ]
        }
      ],
      "source": [
        "# Using the socket library to get the hostname\n",
        "import socket\n",
        "\n",
        "hostname = socket.gethostname()\n",
        "ip_address = socket.gethostbyname(hostname)\n",
        "\n",
        "print(f\"Hostname: {hostname}\")\n",
        "print(f\"IP Address: {ip_address}\")\n"
      ]
    }
  ]
}